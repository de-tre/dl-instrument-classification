{
 "cells": [
  {
   "cell_type": "markdown",
   "id": "a2e88bfe",
   "metadata": {},
   "source": [
    "# Schritt 1 Deep Learning Pipeline: Konvertiere mp3 zu wav"
   ]
  },
  {
   "cell_type": "markdown",
   "id": "bac643cb",
   "metadata": {},
   "source": [
    "Audio Daten lassen sich wesentlich schneller laden, wenn sie in PCM Form vorliegen."
   ]
  },
  {
   "cell_type": "code",
   "execution_count": 1,
   "id": "50a50466",
   "metadata": {},
   "outputs": [],
   "source": [
    "import os, os.path\n",
    "from pydub import AudioSegment\n",
    "from tqdm import tqdm"
   ]
  },
  {
   "cell_type": "code",
   "execution_count": 2,
   "id": "b53b3605",
   "metadata": {},
   "outputs": [
    {
     "name": "stderr",
     "output_type": "stream",
     "text": [
      "60it [32:27, 32.45s/it] \n"
     ]
    }
   ],
   "source": [
    "input_fold=\"./all_samples\"\n",
    "output_fold=\"./all_samples_wav\"\n",
    "sr = 22050\n",
    "\n",
    "for dirname, _, filenames in tqdm(os.walk(input_fold)):\n",
    "    for filename in filenames:\n",
    "        # files                                                                         \n",
    "        src = f'{dirname}/{filename}'\n",
    "        dst_fold = f'{output_fold}/{dirname[len(input_fold)+1:]}'\n",
    "        \n",
    "        # create target folder if not exists\n",
    "        isExist = os.path.exists(dst_fold)\n",
    "        if not isExist:\n",
    "            os.makedirs(dst_fold)\n",
    "                \n",
    "        dst = f'{dst_fold}/{os.path.splitext(filename)[0]}.wav'\n",
    "                \n",
    "        # convert wav to mp3                                                            \n",
    "        sound = AudioSegment.from_mp3(src)\n",
    "        sound = sound.set_frame_rate(sr)\n",
    "        sound.export(dst, format=\"wav\")"
   ]
  }
 ],
 "metadata": {
  "kernelspec": {
   "display_name": "Python 3 (ipykernel)",
   "language": "python",
   "name": "python3"
  },
  "language_info": {
   "codemirror_mode": {
    "name": "ipython",
    "version": 3
   },
   "file_extension": ".py",
   "mimetype": "text/x-python",
   "name": "python",
   "nbconvert_exporter": "python",
   "pygments_lexer": "ipython3",
   "version": "3.9.12"
  }
 },
 "nbformat": 4,
 "nbformat_minor": 5
}
