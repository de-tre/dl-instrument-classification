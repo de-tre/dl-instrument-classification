{
 "cells": [
  {
   "cell_type": "markdown",
   "metadata": {},
   "source": [
    "# Schritt 2 Deep Learning: Instrumenten-Klassifikation"
   ]
  },
  {
   "cell_type": "markdown",
   "metadata": {},
   "source": [
    "# Import libraries"
   ]
  },
  {
   "cell_type": "code",
   "execution_count": 1,
   "metadata": {},
   "outputs": [],
   "source": [
    "import os\n",
    "import numpy as np\n",
    "import librosa as lr\n",
    "import pandas as pd\n",
    "import keras\n",
    "import pickle\n",
    "import keras.initializers\n",
    "import tensorflow as tf\n",
    "import matplotlib.pyplot as plt\n",
    "import seaborn as sns\n",
    "\n",
    "from tqdm import tqdm\n",
    "from keras.layers import Conv2D, MaxPool2D, Flatten, Dense, Dropout\n",
    "from keras.models import Sequential\n",
    "from keras.regularizers import l2\n",
    "from sklearn.model_selection import train_test_split\n",
    "from sklearn.metrics import recall_score, precision_score, accuracy_score\n",
    "from sklearn.metrics import confusion_matrix, f1_score, classification_report\n",
    "from sklearn.preprocessing import StandardScaler\n",
    "from sklearn.preprocessing import LabelEncoder, OneHotEncoder"
   ]
  },
  {
   "cell_type": "code",
   "execution_count": 2,
   "metadata": {},
   "outputs": [
    {
     "name": "stdout",
     "output_type": "stream",
     "text": [
      "Num GPUs Available:  1\n"
     ]
    }
   ],
   "source": [
    "print(\"Num GPUs Available: \", len(tf.config.experimental.list_physical_devices('GPU')))"
   ]
  },
  {
   "cell_type": "code",
   "execution_count": 3,
   "metadata": {},
   "outputs": [],
   "source": [
    "# Set directory for source files\n",
    "\n",
    "ROOT = \"all_samples_wav\"\n",
    "folders = os.listdir(ROOT) # names of subfolders\n",
    "file_data = [] # filenames in each of the 58 folders\n",
    "\n",
    "TARGET_SECONDS = 2\n",
    "sr = 22050\n",
    "target_num_samples = sr*TARGET_SECONDS\n",
    "\n",
    "n_fft = 1024\n",
    "hop_length = 512\n",
    "n_mfcc = 13"
   ]
  },
  {
   "cell_type": "markdown",
   "metadata": {},
   "source": [
    "# Statistics about the dataset"
   ]
  },
  {
   "cell_type": "code",
   "execution_count": 4,
   "metadata": {},
   "outputs": [
    {
     "name": "stderr",
     "output_type": "stream",
     "text": [
      "100%|██████████████████████████████████████████████████████████████████████████████████| 20/20 [00:00<00:00, 25.18it/s]\n"
     ]
    }
   ],
   "source": [
    "for label in tqdm(range(len(folders))):\n",
    "    sub_dir = os.listdir(f'{ROOT}/{folders[label]}')\n",
    "    file_data.append(sub_dir)"
   ]
  },
  {
   "cell_type": "code",
   "execution_count": 5,
   "metadata": {},
   "outputs": [
    {
     "name": "stdout",
     "output_type": "stream",
     "text": [
      "Total amount of samples: 13681\n"
     ]
    },
    {
     "data": {
      "text/html": [
       "<div>\n",
       "<style scoped>\n",
       "    .dataframe tbody tr th:only-of-type {\n",
       "        vertical-align: middle;\n",
       "    }\n",
       "\n",
       "    .dataframe tbody tr th {\n",
       "        vertical-align: top;\n",
       "    }\n",
       "\n",
       "    .dataframe thead th {\n",
       "        text-align: right;\n",
       "    }\n",
       "</style>\n",
       "<table border=\"1\" class=\"dataframe\">\n",
       "  <thead>\n",
       "    <tr style=\"text-align: right;\">\n",
       "      <th></th>\n",
       "      <th>folder</th>\n",
       "      <th>amount</th>\n",
       "    </tr>\n",
       "  </thead>\n",
       "  <tbody>\n",
       "    <tr>\n",
       "      <th>0</th>\n",
       "      <td>banjo</td>\n",
       "      <td>74</td>\n",
       "    </tr>\n",
       "    <tr>\n",
       "      <th>1</th>\n",
       "      <td>bassoon</td>\n",
       "      <td>720</td>\n",
       "    </tr>\n",
       "    <tr>\n",
       "      <th>2</th>\n",
       "      <td>bass_clarinet</td>\n",
       "      <td>944</td>\n",
       "    </tr>\n",
       "    <tr>\n",
       "      <th>3</th>\n",
       "      <td>cello</td>\n",
       "      <td>889</td>\n",
       "    </tr>\n",
       "    <tr>\n",
       "      <th>4</th>\n",
       "      <td>clarinet</td>\n",
       "      <td>846</td>\n",
       "    </tr>\n",
       "    <tr>\n",
       "      <th>5</th>\n",
       "      <td>contrabassoon</td>\n",
       "      <td>710</td>\n",
       "    </tr>\n",
       "    <tr>\n",
       "      <th>6</th>\n",
       "      <td>cor_anglais</td>\n",
       "      <td>691</td>\n",
       "    </tr>\n",
       "    <tr>\n",
       "      <th>7</th>\n",
       "      <td>double_bass</td>\n",
       "      <td>852</td>\n",
       "    </tr>\n",
       "    <tr>\n",
       "      <th>8</th>\n",
       "      <td>flute</td>\n",
       "      <td>878</td>\n",
       "    </tr>\n",
       "    <tr>\n",
       "      <th>9</th>\n",
       "      <td>french_horn</td>\n",
       "      <td>652</td>\n",
       "    </tr>\n",
       "    <tr>\n",
       "      <th>10</th>\n",
       "      <td>guitar</td>\n",
       "      <td>106</td>\n",
       "    </tr>\n",
       "    <tr>\n",
       "      <th>11</th>\n",
       "      <td>mandolin</td>\n",
       "      <td>80</td>\n",
       "    </tr>\n",
       "    <tr>\n",
       "      <th>12</th>\n",
       "      <td>oboe</td>\n",
       "      <td>596</td>\n",
       "    </tr>\n",
       "    <tr>\n",
       "      <th>13</th>\n",
       "      <td>percussion</td>\n",
       "      <td>148</td>\n",
       "    </tr>\n",
       "    <tr>\n",
       "      <th>14</th>\n",
       "      <td>saxophone</td>\n",
       "      <td>732</td>\n",
       "    </tr>\n",
       "    <tr>\n",
       "      <th>15</th>\n",
       "      <td>trombone</td>\n",
       "      <td>831</td>\n",
       "    </tr>\n",
       "    <tr>\n",
       "      <th>16</th>\n",
       "      <td>trumpet</td>\n",
       "      <td>485</td>\n",
       "    </tr>\n",
       "    <tr>\n",
       "      <th>17</th>\n",
       "      <td>tuba</td>\n",
       "      <td>972</td>\n",
       "    </tr>\n",
       "    <tr>\n",
       "      <th>18</th>\n",
       "      <td>viola</td>\n",
       "      <td>973</td>\n",
       "    </tr>\n",
       "    <tr>\n",
       "      <th>19</th>\n",
       "      <td>violin</td>\n",
       "      <td>1502</td>\n",
       "    </tr>\n",
       "  </tbody>\n",
       "</table>\n",
       "</div>"
      ],
      "text/plain": [
       "           folder  amount\n",
       "0           banjo      74\n",
       "1         bassoon     720\n",
       "2   bass_clarinet     944\n",
       "3           cello     889\n",
       "4        clarinet     846\n",
       "5   contrabassoon     710\n",
       "6     cor_anglais     691\n",
       "7     double_bass     852\n",
       "8           flute     878\n",
       "9     french_horn     652\n",
       "10         guitar     106\n",
       "11       mandolin      80\n",
       "12           oboe     596\n",
       "13     percussion     148\n",
       "14      saxophone     732\n",
       "15       trombone     831\n",
       "16        trumpet     485\n",
       "17           tuba     972\n",
       "18          viola     973\n",
       "19         violin    1502"
      ]
     },
     "execution_count": 5,
     "metadata": {},
     "output_type": "execute_result"
    }
   ],
   "source": [
    "amounts = []\n",
    "\n",
    "for i in range(len(file_data)):\n",
    "    amounts.append(len(file_data[i]))\n",
    "col1 = np.array(folders)\n",
    "col2 = np.array(amounts)\n",
    "merge = {'folder': col1, 'amount': col2}\n",
    "\n",
    "df = pd.DataFrame(merge, columns=['folder', 'amount'])\n",
    "                   \n",
    "print(f'Total amount of samples: {sum(amounts)}')\n",
    "\n",
    "df"
   ]
  },
  {
   "cell_type": "markdown",
   "metadata": {},
   "source": [
    "Load audio data"
   ]
  },
  {
   "cell_type": "code",
   "execution_count": 6,
   "metadata": {},
   "outputs": [],
   "source": [
    "# audio_data = []\n",
    "# \n",
    "# for dirname, _, filenames in tqdm(os.walk(ROOT)):\n",
    "#     for filename in filenames:\n",
    "#         src = f'{dirname}/{filename}'\n",
    "#         audio_data.append(lr.load(src))"
   ]
  },
  {
   "cell_type": "markdown",
   "metadata": {},
   "source": [
    "Save/Load audio_waves array"
   ]
  },
  {
   "cell_type": "code",
   "execution_count": 7,
   "metadata": {},
   "outputs": [],
   "source": [
    "# Save\n",
    "# with open('audio_data.pickle', 'wb') as f:\n",
    "#     pickle.dump(audio_data, f)"
   ]
  },
  {
   "cell_type": "code",
   "execution_count": 8,
   "metadata": {},
   "outputs": [],
   "source": [
    "# Load\n",
    "with open('audio_data.pickle', 'rb') as f:\n",
    "    audio_data = pickle.load(f)"
   ]
  },
  {
   "cell_type": "markdown",
   "metadata": {},
   "source": [
    "Create dataframe overview"
   ]
  },
  {
   "cell_type": "code",
   "execution_count": 9,
   "metadata": {
    "scrolled": true
   },
   "outputs": [
    {
     "data": {
      "text/html": [
       "<div>\n",
       "<style scoped>\n",
       "    .dataframe tbody tr th:only-of-type {\n",
       "        vertical-align: middle;\n",
       "    }\n",
       "\n",
       "    .dataframe tbody tr th {\n",
       "        vertical-align: top;\n",
       "    }\n",
       "\n",
       "    .dataframe thead th {\n",
       "        text-align: right;\n",
       "    }\n",
       "</style>\n",
       "<table border=\"1\" class=\"dataframe\">\n",
       "  <thead>\n",
       "    <tr style=\"text-align: right;\">\n",
       "      <th></th>\n",
       "      <th>signal</th>\n",
       "      <th>samplerate</th>\n",
       "      <th>num samples</th>\n",
       "      <th>seconds</th>\n",
       "      <th>fname</th>\n",
       "      <th>classID</th>\n",
       "    </tr>\n",
       "  </thead>\n",
       "  <tbody>\n",
       "    <tr>\n",
       "      <th>0</th>\n",
       "      <td>[0.0, 0.0, 0.0, 0.0, 0.0, 0.0, 0.0, 0.0, 0.0, ...</td>\n",
       "      <td>22050</td>\n",
       "      <td>76608</td>\n",
       "      <td>3.5</td>\n",
       "      <td>banjo_A3_very-long_forte_normal.wav</td>\n",
       "      <td>banjo</td>\n",
       "    </tr>\n",
       "    <tr>\n",
       "      <th>1</th>\n",
       "      <td>[0.0, 0.0, 0.0, 0.0, 0.0, 0.0, 0.0, 0.0, 0.0, ...</td>\n",
       "      <td>22050</td>\n",
       "      <td>77184</td>\n",
       "      <td>3.5</td>\n",
       "      <td>banjo_A3_very-long_piano_normal.wav</td>\n",
       "      <td>banjo</td>\n",
       "    </tr>\n",
       "    <tr>\n",
       "      <th>2</th>\n",
       "      <td>[0.0, 0.0, 0.0, 0.0, 0.0, 0.0, 0.0, 0.0, 0.0, ...</td>\n",
       "      <td>22050</td>\n",
       "      <td>84096</td>\n",
       "      <td>3.8</td>\n",
       "      <td>banjo_A4_very-long_forte_normal.wav</td>\n",
       "      <td>banjo</td>\n",
       "    </tr>\n",
       "    <tr>\n",
       "      <th>3</th>\n",
       "      <td>[0.0, 0.0, 0.0, 0.0, 0.0, 0.0, 0.0, 0.0, 0.0, ...</td>\n",
       "      <td>22050</td>\n",
       "      <td>69696</td>\n",
       "      <td>3.2</td>\n",
       "      <td>banjo_A4_very-long_piano_normal.wav</td>\n",
       "      <td>banjo</td>\n",
       "    </tr>\n",
       "    <tr>\n",
       "      <th>4</th>\n",
       "      <td>[0.0, 0.0, 0.0, 0.0, 0.0, 0.0, 0.0, 0.0, 0.0, ...</td>\n",
       "      <td>22050</td>\n",
       "      <td>85248</td>\n",
       "      <td>3.9</td>\n",
       "      <td>banjo_A5_very-long_forte_normal.wav</td>\n",
       "      <td>banjo</td>\n",
       "    </tr>\n",
       "    <tr>\n",
       "      <th>...</th>\n",
       "      <td>...</td>\n",
       "      <td>...</td>\n",
       "      <td>...</td>\n",
       "      <td>...</td>\n",
       "      <td>...</td>\n",
       "      <td>...</td>\n",
       "    </tr>\n",
       "    <tr>\n",
       "      <th>13676</th>\n",
       "      <td>[0.0, 0.0, 0.0, 0.0, 0.0, 0.0, 0.0, 0.0, 0.0, ...</td>\n",
       "      <td>22050</td>\n",
       "      <td>48960</td>\n",
       "      <td>2.2</td>\n",
       "      <td>violin_Gs6_1_mezzo-forte_natural-harmonic.wav</td>\n",
       "      <td>violin</td>\n",
       "    </tr>\n",
       "    <tr>\n",
       "      <th>13677</th>\n",
       "      <td>[0.0, 0.0, 0.0, 0.0, 0.0, 0.0, 0.0, 0.0, 0.0, ...</td>\n",
       "      <td>22050</td>\n",
       "      <td>28800</td>\n",
       "      <td>1.3</td>\n",
       "      <td>violin_Gs6_1_piano_arco-sul-tasto.wav</td>\n",
       "      <td>violin</td>\n",
       "    </tr>\n",
       "    <tr>\n",
       "      <th>13678</th>\n",
       "      <td>[0.0, 0.0, 0.0, 0.0, 0.0, 0.0, 0.0, 0.0, 0.0, ...</td>\n",
       "      <td>22050</td>\n",
       "      <td>34560</td>\n",
       "      <td>1.6</td>\n",
       "      <td>violin_Gs6_1_piano_natural-harmonic.wav</td>\n",
       "      <td>violin</td>\n",
       "    </tr>\n",
       "    <tr>\n",
       "      <th>13679</th>\n",
       "      <td>[0.0, 0.0, 0.0, 0.0, 0.0, 0.0, 0.0, 0.0, 0.0, ...</td>\n",
       "      <td>22050</td>\n",
       "      <td>51840</td>\n",
       "      <td>2.4</td>\n",
       "      <td>violin_Gs6_phrase_pianissimo_arco-normal.wav</td>\n",
       "      <td>violin</td>\n",
       "    </tr>\n",
       "    <tr>\n",
       "      <th>13680</th>\n",
       "      <td>[0.0, 0.0, 0.0, 0.0, 0.0, 0.0, 0.0, 0.0, 0.0, ...</td>\n",
       "      <td>22050</td>\n",
       "      <td>31680</td>\n",
       "      <td>1.4</td>\n",
       "      <td>violin_Gs7_1_mezzo-forte_natural-harmonic.wav</td>\n",
       "      <td>violin</td>\n",
       "    </tr>\n",
       "  </tbody>\n",
       "</table>\n",
       "<p>13681 rows × 6 columns</p>\n",
       "</div>"
      ],
      "text/plain": [
       "                                                  signal samplerate  \\\n",
       "0      [0.0, 0.0, 0.0, 0.0, 0.0, 0.0, 0.0, 0.0, 0.0, ...      22050   \n",
       "1      [0.0, 0.0, 0.0, 0.0, 0.0, 0.0, 0.0, 0.0, 0.0, ...      22050   \n",
       "2      [0.0, 0.0, 0.0, 0.0, 0.0, 0.0, 0.0, 0.0, 0.0, ...      22050   \n",
       "3      [0.0, 0.0, 0.0, 0.0, 0.0, 0.0, 0.0, 0.0, 0.0, ...      22050   \n",
       "4      [0.0, 0.0, 0.0, 0.0, 0.0, 0.0, 0.0, 0.0, 0.0, ...      22050   \n",
       "...                                                  ...        ...   \n",
       "13676  [0.0, 0.0, 0.0, 0.0, 0.0, 0.0, 0.0, 0.0, 0.0, ...      22050   \n",
       "13677  [0.0, 0.0, 0.0, 0.0, 0.0, 0.0, 0.0, 0.0, 0.0, ...      22050   \n",
       "13678  [0.0, 0.0, 0.0, 0.0, 0.0, 0.0, 0.0, 0.0, 0.0, ...      22050   \n",
       "13679  [0.0, 0.0, 0.0, 0.0, 0.0, 0.0, 0.0, 0.0, 0.0, ...      22050   \n",
       "13680  [0.0, 0.0, 0.0, 0.0, 0.0, 0.0, 0.0, 0.0, 0.0, ...      22050   \n",
       "\n",
       "       num samples  seconds                                          fname  \\\n",
       "0            76608      3.5            banjo_A3_very-long_forte_normal.wav   \n",
       "1            77184      3.5            banjo_A3_very-long_piano_normal.wav   \n",
       "2            84096      3.8            banjo_A4_very-long_forte_normal.wav   \n",
       "3            69696      3.2            banjo_A4_very-long_piano_normal.wav   \n",
       "4            85248      3.9            banjo_A5_very-long_forte_normal.wav   \n",
       "...            ...      ...                                            ...   \n",
       "13676        48960      2.2  violin_Gs6_1_mezzo-forte_natural-harmonic.wav   \n",
       "13677        28800      1.3          violin_Gs6_1_piano_arco-sul-tasto.wav   \n",
       "13678        34560      1.6        violin_Gs6_1_piano_natural-harmonic.wav   \n",
       "13679        51840      2.4   violin_Gs6_phrase_pianissimo_arco-normal.wav   \n",
       "13680        31680      1.4  violin_Gs7_1_mezzo-forte_natural-harmonic.wav   \n",
       "\n",
       "      classID  \n",
       "0       banjo  \n",
       "1       banjo  \n",
       "2       banjo  \n",
       "3       banjo  \n",
       "4       banjo  \n",
       "...       ...  \n",
       "13676  violin  \n",
       "13677  violin  \n",
       "13678  violin  \n",
       "13679  violin  \n",
       "13680  violin  \n",
       "\n",
       "[13681 rows x 6 columns]"
      ]
     },
     "execution_count": 9,
     "metadata": {},
     "output_type": "execute_result"
    }
   ],
   "source": [
    "fname = []\n",
    "classID = []\n",
    "num_samples = []\n",
    "\n",
    "df1 = pd.DataFrame(np.array(audio_data, dtype=object), columns=['signal', 'samplerate'])\n",
    "\n",
    "for i in range(df1.shape[0]):\n",
    "    num_samples.append(len(df1['signal'].iloc[i]))\n",
    "num_samples = np.array(num_samples)\n",
    "\n",
    "for dirname, _, filenames in os.walk(ROOT):\n",
    "    for filename in filenames:\n",
    "        fname.append(filename)\n",
    "        classID.append(dirname[16:])\n",
    "fname = np.array(fname)\n",
    "classID = np.array(classID)\n",
    "\n",
    "df1['num samples'] = num_samples\n",
    "df1['seconds'] = df1['num samples']/df1['samplerate']\n",
    "df1['fname'] = fname\n",
    "df1['classID'] = classID\n",
    "\n",
    "# round seconds\n",
    "df1['seconds'] = df1['seconds'].apply(pd.to_numeric, errors='coerce').round(1)\n",
    "\n",
    "df1"
   ]
  },
  {
   "cell_type": "code",
   "execution_count": 10,
   "metadata": {},
   "outputs": [
    {
     "name": "stdout",
     "output_type": "stream",
     "text": [
      "Shortest sample length: 1728sm (~ 0.1 seconds), longest: 1711296sm (~ 77.6 seconds)\n",
      "Average length in seconds: 1.9\n"
     ]
    },
    {
     "data": {
      "image/png": "[encoded data removed]",
      "text/plain": [
       "<Figure size 432x288 with 1 Axes>"
      ]
     },
     "metadata": {
      "needs_background": "light"
     },
     "output_type": "display_data"
    }
   ],
   "source": [
    "%matplotlib inline\n",
    "x = df1['seconds']\n",
    "\n",
    "plt.hist(x, density=False, bins=150, range=(0,5))  # density=False would make counts\n",
    "plt.ylabel('Amount of files')\n",
    "plt.xlabel('Seconds');\n",
    "\n",
    "print(f\"Shortest sample length: {np.min(df1['num samples'])}sm (~ {np.min(df1['seconds'])} seconds), longest: {np.max(df1['num samples'])}sm (~ {np.max(df1['seconds'])} seconds)\")\n",
    "print(f\"Average length in seconds: {np.round(np.mean(df1['seconds']), decimals=1)}\")"
   ]
  },
  {
   "cell_type": "markdown",
   "metadata": {},
   "source": [
    "Bring all soundfiles to the desired length of 2 seconds"
   ]
  },
  {
   "cell_type": "code",
   "execution_count": 11,
   "metadata": {},
   "outputs": [],
   "source": [
    "processed_audio = []\n",
    "\n",
    "for i in range(len(audio_data)):\n",
    "    signal = audio_data[i][0]\n",
    "    \n",
    "    # shorten if too long, right-pad if too short\n",
    "    if len(signal) > target_num_samples:\n",
    "        processed_audio.append(signal[:target_num_samples])\n",
    "        \n",
    "    if len(signal) < target_num_samples:\n",
    "        num_missing_samples = target_num_samples - len(signal)\n",
    "        last_dim_padding = (0, num_missing_samples)\n",
    "        processed_audio.append(np.pad(signal, last_dim_padding, mode='constant'))\n",
    "        \n",
    "processed_audio = np.array(processed_audio, dtype=float)"
   ]
  },
  {
   "cell_type": "markdown",
   "metadata": {},
   "source": [
    "Save/load processed_audio_data"
   ]
  },
  {
   "cell_type": "code",
   "execution_count": 12,
   "metadata": {},
   "outputs": [],
   "source": [
    "# Save\n",
    "# with open('processed_audio.pickle', 'wb') as f:\n",
    "#     pickle.dump(processed_audio, f)"
   ]
  },
  {
   "cell_type": "code",
   "execution_count": 13,
   "metadata": {},
   "outputs": [],
   "source": [
    "# Load\n",
    "with open('processed_audio.pickle', 'rb') as f:\n",
    "    processed_audio = pickle.load(f)"
   ]
  },
  {
   "cell_type": "code",
   "execution_count": 14,
   "metadata": {
    "scrolled": true
   },
   "outputs": [
    {
     "data": {
      "text/plain": [
       "(13681, 44100)"
      ]
     },
     "execution_count": 14,
     "metadata": {},
     "output_type": "execute_result"
    }
   ],
   "source": [
    "processed_audio.shape"
   ]
  },
  {
   "cell_type": "markdown",
   "metadata": {},
   "source": [
    "# Feature extraction"
   ]
  },
  {
   "cell_type": "markdown",
   "metadata": {},
   "source": [
    "Methods and extraction"
   ]
  },
  {
   "cell_type": "code",
   "execution_count": 15,
   "metadata": {},
   "outputs": [],
   "source": [
    "def mfcc_scale(mfcc):\n",
    "    scaler = StandardScaler()\n",
    "    mfcc = scaler.fit_transform(np.array(mfcc))\n",
    "    return mfcc\n",
    "\n",
    "def calc_mfcc(signal):\n",
    "    return lr.feature.mfcc(y=signal, n_mfcc=n_mfcc, sr=sr)"
   ]
  },
  {
   "cell_type": "code",
   "execution_count": 16,
   "metadata": {},
   "outputs": [
    {
     "name": "stderr",
     "output_type": "stream",
     "text": [
      "100%|███████████████████████████████████████████████████████████████████████████| 13681/13681 [01:48<00:00, 126.56it/s]\n"
     ]
    }
   ],
   "source": [
    "mfcc_features = []\n",
    "\n",
    "for i in tqdm(range(len(processed_audio))):\n",
    "    mfcc_features.append(mfcc_scale(calc_mfcc(processed_audio[i])))\n",
    "    \n",
    "mfcc_features = np.array(mfcc_features)"
   ]
  },
  {
   "cell_type": "markdown",
   "metadata": {},
   "source": [
    "Save/load mfcc_features"
   ]
  },
  {
   "cell_type": "code",
   "execution_count": 17,
   "metadata": {},
   "outputs": [],
   "source": [
    "# Save\n",
    "with open('mfcc_features.pickle', 'wb') as f:\n",
    "    pickle.dump(mfcc_features, f)"
   ]
  },
  {
   "cell_type": "code",
   "execution_count": 18,
   "metadata": {},
   "outputs": [],
   "source": [
    "# Load\n",
    "# with open('mfcc_features.pickle', 'rb') as f:\n",
    "#     mfcc_features = pickle.load(f)"
   ]
  },
  {
   "cell_type": "code",
   "execution_count": 19,
   "metadata": {
    "scrolled": false
   },
   "outputs": [
    {
     "name": "stdout",
     "output_type": "stream",
     "text": [
      "(13681, 44100)\n",
      "(13681, 13, 87)\n"
     ]
    }
   ],
   "source": [
    "print(processed_audio.shape)\n",
    "print(mfcc_features.shape)"
   ]
  },
  {
   "cell_type": "markdown",
   "metadata": {},
   "source": [
    "# Extract and plot a single sound file"
   ]
  },
  {
   "cell_type": "markdown",
   "metadata": {},
   "source": [
    "ex. shortened file"
   ]
  },
  {
   "cell_type": "code",
   "execution_count": 20,
   "metadata": {},
   "outputs": [
    {
     "data": {
      "image/png": "[encoded data removed]",
      "text/plain": [
       "<Figure size 864x144 with 1 Axes>"
      ]
     },
     "metadata": {
      "needs_background": "light"
     },
     "output_type": "display_data"
    },
    {
     "data": {
      "image/png": "[encoded data removed]",
      "text/plain": [
       "<Figure size 1080x144 with 1 Axes>"
      ]
     },
     "metadata": {
      "needs_background": "light"
     },
     "output_type": "display_data"
    },
    {
     "name": "stdout",
     "output_type": "stream",
     "text": [
      "bassoon_C4_long_forte_tremolo.wav; original: 101376sm -> 44100sm\n"
     ]
    }
   ],
   "source": [
    "test_nr = 310\n",
    "plt.figure(figsize=(12,2))\n",
    "plt.plot(processed_audio[test_nr])\n",
    "plt.title(f'{classID[test_nr]}')\n",
    "plt.show()\n",
    "plt.figure(figsize=(15, 2))\n",
    "plt.imshow(mfcc_features[test_nr], vmin=0, vmax=1)\n",
    "plt.title(classID[test_nr])\n",
    "plt.show()\n",
    "print(f'{fname[test_nr]}; original: {len(audio_data[test_nr][0])}sm -> {target_num_samples}sm')"
   ]
  },
  {
   "cell_type": "markdown",
   "metadata": {},
   "source": [
    "ex. padded file"
   ]
  },
  {
   "cell_type": "code",
   "execution_count": 21,
   "metadata": {
    "scrolled": true
   },
   "outputs": [
    {
     "data": {
      "image/png": "[encoded data removed]",
      "text/plain": [
       "<Figure size 864x144 with 1 Axes>"
      ]
     },
     "metadata": {
      "needs_background": "light"
     },
     "output_type": "display_data"
    },
    {
     "data": {
      "image/png": "[encoded data removed]",
      "text/plain": [
       "<Figure size 1080x144 with 1 Axes>"
      ]
     },
     "metadata": {
      "needs_background": "light"
     },
     "output_type": "display_data"
    },
    {
     "name": "stdout",
     "output_type": "stream",
     "text": [
      "double-bass_As3_1_mezzo-piano_arco-normal.wav; original: 28224sm -> 44100sm\n"
     ]
    }
   ],
   "source": [
    "test_nr = 5001\n",
    "plt.figure(figsize=(12,2))\n",
    "plt.plot(processed_audio[test_nr])\n",
    "plt.title(classID[test_nr])\n",
    "plt.show()\n",
    "plt.figure(figsize=(15, 2))\n",
    "plt.imshow(mfcc_features[test_nr], vmin=0, vmax=1)\n",
    "plt.title(classID[test_nr])\n",
    "plt.show()\n",
    "print(f'{fname[test_nr]}; original: {len(audio_data[test_nr][0])}sm -> {target_num_samples}sm')"
   ]
  },
  {
   "cell_type": "markdown",
   "metadata": {},
   "source": [
    "Encoding the labels<br>\n",
    "'banjo' -> '0',<br>\n",
    "...<br>\n",
    "'violin' -> '20'<br>\n",
    "Followed by one-hot-encoding"
   ]
  },
  {
   "cell_type": "code",
   "execution_count": 22,
   "metadata": {},
   "outputs": [],
   "source": [
    "label_encoder = LabelEncoder()\n",
    "label_encoded = label_encoder.fit_transform(classID)\n",
    "label_encoded = label_encoded[:, np.newaxis]"
   ]
  },
  {
   "cell_type": "code",
   "execution_count": 23,
   "metadata": {},
   "outputs": [],
   "source": [
    "one_hot_encoder = OneHotEncoder(sparse=False)\n",
    "one_hot_encoded = one_hot_encoder.fit_transform(label_encoded)"
   ]
  },
  {
   "cell_type": "markdown",
   "metadata": {},
   "source": [
    "# Create train and test sets"
   ]
  },
  {
   "cell_type": "markdown",
   "metadata": {},
   "source": [
    "Intuitive labelling for data, normalization of features, stratified splitting to account for<br>\n",
    "the inbalances in the dataset"
   ]
  },
  {
   "cell_type": "code",
   "execution_count": 24,
   "metadata": {},
   "outputs": [],
   "source": [
    "X = mfcc_features\n",
    "y = one_hot_encoded\n",
    "X = (X-X.min())/(X.max()-X.min()) # Normalization\n",
    "X_train, X_test, y_train, y_test = train_test_split(X, y, \n",
    "                                                    stratify=y, \n",
    "                                                    test_size=0.2,\n",
    "                                                    shuffle=True, \n",
    "                                                    random_state=8)\n",
    "\n",
    "X_train, X_val, y_train, y_val = train_test_split(X_train, y_train, \n",
    "                                                  stratify=y_train, \n",
    "                                                  test_size=0.25, \n",
    "                                                  shuffle=True, \n",
    "                                                  random_state= 8)"
   ]
  },
  {
   "cell_type": "code",
   "execution_count": 25,
   "metadata": {},
   "outputs": [],
   "source": [
    "input_shape = (X_train.shape[1], X_train.shape[2], 1)"
   ]
  },
  {
   "cell_type": "code",
   "execution_count": 26,
   "metadata": {},
   "outputs": [
    {
     "data": {
      "text/plain": [
       "(13, 87, 1)"
      ]
     },
     "execution_count": 26,
     "metadata": {},
     "output_type": "execute_result"
    }
   ],
   "source": [
    "input_shape"
   ]
  },
  {
   "cell_type": "code",
   "execution_count": 27,
   "metadata": {},
   "outputs": [
    {
     "name": "stdout",
     "output_type": "stream",
     "text": [
      "X_train shape: (8208, 13, 87)\n",
      "X_test shape: (2737, 13, 87)\n",
      "y_train shape: (8208, 20)\n",
      "y_test shape: (2737, 20)\n",
      "X_val shape: (8208, 20)\n",
      "y_val shape: (2737, 20)\n"
     ]
    }
   ],
   "source": [
    "# X_train = X_train.reshape(X_train.shape[0], X_train.shape[1], X_train.shape[2], 1)\n",
    "# X_test = X_test.reshape(X_test.shape[0], X_test.shape[1], X_test.shape[2], 1)\n",
    "\n",
    "print(\"X_train shape: {}\".format(X_train.shape))\n",
    "print(\"X_test shape: {}\".format(X_test.shape))\n",
    "print(\"y_train shape: {}\".format(y_train.shape))\n",
    "print(\"y_test shape: {}\".format(y_test.shape))\n",
    "print(\"X_val shape: {}\".format(y_train.shape))\n",
    "print(\"y_val shape: {}\".format(y_test.shape))"
   ]
  },
  {
   "cell_type": "markdown",
   "metadata": {},
   "source": [
    "# Training"
   ]
  },
  {
   "cell_type": "code",
   "execution_count": 28,
   "metadata": {},
   "outputs": [],
   "source": [
    "# Training parameters\n",
    "\n",
    "num_epochs = 100\n",
    "# num_steps = 1000\n",
    "activation = 'relu'\n",
    "last_act = 'Softmax'\n",
    "kernel_init = 'he_normal'\n",
    "dense_init = keras.initializers.HeNormal()\n",
    "regularizer = l2(0.01)\n",
    "padding = 'same'\n",
    "loss = 'categorical_crossentropy'\n",
    "optimizer = 'adam'\n",
    "metrics = 'acc'\n",
    "filter_dim = (3, 3)\n",
    "\n",
    "# Early stopping parameters\n",
    "callback = keras.callbacks.EarlyStopping(monitor='loss', patience=3)"
   ]
  },
  {
   "cell_type": "markdown",
   "metadata": {},
   "source": [
    "CNN Architecture"
   ]
  },
  {
   "cell_type": "code",
   "execution_count": 29,
   "metadata": {},
   "outputs": [],
   "source": [
    "model = Sequential()\n",
    "model.add(Conv2D(16, filter_dim, activation=activation, strides=(1, 1), padding=padding, input_shape=input_shape, kernel_initializer=kernel_init))\n",
    "# model.add(MaxPool2D((2, 2), padding=padding))\n",
    "\n",
    "model.add(Conv2D(32, filter_dim, activation=activation, strides=(1, 1), padding=padding, kernel_initializer=kernel_init))\n",
    "# model.add(MaxPool2D((2, 2), padding=padding))\n",
    "\n",
    "model.add(Conv2D(64, filter_dim, activation=activation, strides=(1, 1), padding=padding, kernel_initializer=kernel_init))\n",
    "model.add(MaxPool2D((2, 2), padding=padding))\n",
    "\n",
    "model.add(Conv2D(128, filter_dim, activation=activation, strides=(1, 1), padding=padding, kernel_initializer=kernel_init))\n",
    "model.add(MaxPool2D((2, 2), padding=padding))\n",
    "\n",
    "model.add(Flatten())\n",
    "model.add(Dense(512, activation=activation, kernel_initializer=dense_init, kernel_regularizer=regularizer))\n",
    "model.add(Dropout(0.3))\n",
    "model.add(Dense(1024, activation=activation, kernel_initializer=dense_init, kernel_regularizer=regularizer))\n",
    "model.add(Dropout(0.2))\n",
    "model.add(Dense(512, activation=activation, kernel_initializer=dense_init, kernel_regularizer=regularizer))\n",
    "model.add(Dense(20, activation=last_act))\n",
    "\n",
    "model.compile(loss=loss, optimizer=optimizer, metrics=[metrics])"
   ]
  },
  {
   "cell_type": "code",
   "execution_count": 30,
   "metadata": {
    "scrolled": true
   },
   "outputs": [
    {
     "name": "stdout",
     "output_type": "stream",
     "text": [
      "Model: \"sequential\"\n",
      "_________________________________________________________________\n",
      " Layer (type)                Output Shape              Param #   \n",
      "=================================================================\n",
      " conv2d (Conv2D)             (None, 13, 87, 16)        160       \n",
      "                                                                 \n",
      " conv2d_1 (Conv2D)           (None, 13, 87, 32)        4640      \n",
      "                                                                 \n",
      " conv2d_2 (Conv2D)           (None, 13, 87, 64)        18496     \n",
      "                                                                 \n",
      " max_pooling2d (MaxPooling2D  (None, 7, 44, 64)        0         \n",
      " )                                                               \n",
      "                                                                 \n",
      " conv2d_3 (Conv2D)           (None, 7, 44, 128)        73856     \n",
      "                                                                 \n",
      " max_pooling2d_1 (MaxPooling  (None, 4, 22, 128)       0         \n",
      " 2D)                                                             \n",
      "                                                                 \n",
      " flatten (Flatten)           (None, 11264)             0         \n",
      "                                                                 \n",
      " dense (Dense)               (None, 512)               5767680   \n",
      "                                                                 \n",
      " dropout (Dropout)           (None, 512)               0         \n",
      "                                                                 \n",
      " dense_1 (Dense)             (None, 1024)              525312    \n",
      "                                                                 \n",
      " dropout_1 (Dropout)         (None, 1024)              0         \n",
      "                                                                 \n",
      " dense_2 (Dense)             (None, 512)               524800    \n",
      "                                                                 \n",
      " dense_3 (Dense)             (None, 20)                10260     \n",
      "                                                                 \n",
      "=================================================================\n",
      "Total params: 6,925,204\n",
      "Trainable params: 6,925,204\n",
      "Non-trainable params: 0\n",
      "_________________________________________________________________\n"
     ]
    }
   ],
   "source": [
    "model.summary()"
   ]
  },
  {
   "cell_type": "markdown",
   "metadata": {},
   "source": [
    "Train"
   ]
  },
  {
   "cell_type": "code",
   "execution_count": 31,
   "metadata": {
    "scrolled": true
   },
   "outputs": [
    {
     "name": "stdout",
     "output_type": "stream",
     "text": [
      "Epoch 1/100\n",
      "257/257 [==============================] - 15s 40ms/step - loss: 11.3621 - acc: 0.1098 - val_loss: 3.8793 - val_acc: 0.1480\n",
      "Epoch 2/100\n",
      "257/257 [==============================] - 9s 36ms/step - loss: 2.9051 - acc: 0.2880 - val_loss: 2.1198 - val_acc: 0.4547\n",
      "Epoch 3/100\n",
      "257/257 [==============================] - 9s 36ms/step - loss: 1.9303 - acc: 0.4934 - val_loss: 1.4896 - val_acc: 0.6546\n",
      "Epoch 4/100\n",
      "257/257 [==============================] - 9s 37ms/step - loss: 1.5381 - acc: 0.6390 - val_loss: 1.2171 - val_acc: 0.7588\n",
      "Epoch 5/100\n",
      "257/257 [==============================] - 9s 36ms/step - loss: 1.3293 - acc: 0.7105 - val_loss: 1.0379 - val_acc: 0.8118\n",
      "Epoch 6/100\n",
      "257/257 [==============================] - 9s 36ms/step - loss: 1.1593 - acc: 0.7682 - val_loss: 1.0530 - val_acc: 0.8067\n",
      "Epoch 7/100\n",
      "257/257 [==============================] - 9s 36ms/step - loss: 1.0468 - acc: 0.8036 - val_loss: 0.9467 - val_acc: 0.8443\n",
      "Epoch 8/100\n",
      "257/257 [==============================] - 9s 36ms/step - loss: 0.9458 - acc: 0.8366 - val_loss: 0.8623 - val_acc: 0.8655\n",
      "Epoch 9/100\n",
      "257/257 [==============================] - 9s 36ms/step - loss: 0.9236 - acc: 0.8447 - val_loss: 0.8179 - val_acc: 0.8798\n",
      "Epoch 10/100\n",
      "257/257 [==============================] - 9s 36ms/step - loss: 0.8445 - acc: 0.8625 - val_loss: 0.7809 - val_acc: 0.8776\n",
      "Epoch 11/100\n",
      "257/257 [==============================] - 9s 36ms/step - loss: 0.8048 - acc: 0.8739 - val_loss: 0.7707 - val_acc: 0.8904\n",
      "Epoch 12/100\n",
      "257/257 [==============================] - 9s 36ms/step - loss: 0.7949 - acc: 0.8777 - val_loss: 0.7364 - val_acc: 0.8966\n",
      "Epoch 13/100\n",
      "257/257 [==============================] - 9s 36ms/step - loss: 0.7481 - acc: 0.8904 - val_loss: 0.6857 - val_acc: 0.9108\n",
      "Epoch 14/100\n",
      "257/257 [==============================] - 9s 36ms/step - loss: 0.7356 - acc: 0.8938 - val_loss: 0.6751 - val_acc: 0.9156\n",
      "Epoch 15/100\n",
      "257/257 [==============================] - 9s 37ms/step - loss: 0.7301 - acc: 0.8927 - val_loss: 0.6379 - val_acc: 0.9221\n",
      "Epoch 16/100\n",
      "257/257 [==============================] - 9s 37ms/step - loss: 0.7359 - acc: 0.8949 - val_loss: 0.6413 - val_acc: 0.9192\n",
      "Epoch 17/100\n",
      "257/257 [==============================] - 9s 37ms/step - loss: 0.6862 - acc: 0.9051 - val_loss: 0.6603 - val_acc: 0.9148\n",
      "Epoch 18/100\n",
      "257/257 [==============================] - 9s 36ms/step - loss: 0.6609 - acc: 0.9074 - val_loss: 0.6568 - val_acc: 0.9112\n",
      "Epoch 19/100\n",
      "257/257 [==============================] - 9s 36ms/step - loss: 0.6552 - acc: 0.9136 - val_loss: 0.7485 - val_acc: 0.8929\n",
      "Epoch 20/100\n",
      "257/257 [==============================] - 9s 36ms/step - loss: 0.6543 - acc: 0.9137 - val_loss: 0.6161 - val_acc: 0.9327\n",
      "Epoch 21/100\n",
      "257/257 [==============================] - 9s 36ms/step - loss: 0.6386 - acc: 0.9231 - val_loss: 0.6230 - val_acc: 0.9240\n",
      "Epoch 22/100\n",
      "257/257 [==============================] - 9s 36ms/step - loss: 0.6389 - acc: 0.9161 - val_loss: 0.6537 - val_acc: 0.9152\n",
      "Epoch 23/100\n",
      "257/257 [==============================] - 9s 36ms/step - loss: 0.6309 - acc: 0.9213 - val_loss: 0.6335 - val_acc: 0.9207\n",
      "Epoch 24/100\n",
      "257/257 [==============================] - 9s 37ms/step - loss: 0.6186 - acc: 0.9221 - val_loss: 0.6239 - val_acc: 0.9221\n",
      "Epoch 25/100\n",
      "257/257 [==============================] - 10s 37ms/step - loss: 0.5902 - acc: 0.9288 - val_loss: 0.5961 - val_acc: 0.9324\n",
      "Epoch 26/100\n",
      "257/257 [==============================] - 9s 37ms/step - loss: 0.6079 - acc: 0.9257 - val_loss: 0.6675 - val_acc: 0.9101\n",
      "Epoch 27/100\n",
      "257/257 [==============================] - 9s 36ms/step - loss: 0.5634 - acc: 0.9332 - val_loss: 0.5687 - val_acc: 0.9302\n",
      "Epoch 28/100\n",
      "257/257 [==============================] - 9s 37ms/step - loss: 0.5774 - acc: 0.9321 - val_loss: 0.5757 - val_acc: 0.9335\n",
      "Epoch 29/100\n",
      "257/257 [==============================] - 9s 37ms/step - loss: 0.5821 - acc: 0.9288 - val_loss: 0.5486 - val_acc: 0.9448\n",
      "Epoch 30/100\n",
      "257/257 [==============================] - 9s 37ms/step - loss: 0.5630 - acc: 0.9330 - val_loss: 0.5533 - val_acc: 0.9379\n",
      "Epoch 31/100\n",
      "257/257 [==============================] - 9s 36ms/step - loss: 0.5734 - acc: 0.9358 - val_loss: 0.6075 - val_acc: 0.9327\n",
      "Epoch 32/100\n",
      "257/257 [==============================] - 9s 36ms/step - loss: 0.5486 - acc: 0.9388 - val_loss: 0.5854 - val_acc: 0.9349\n",
      "Epoch 33/100\n",
      "257/257 [==============================] - 9s 36ms/step - loss: 0.5402 - acc: 0.9423 - val_loss: 0.5576 - val_acc: 0.9364\n",
      "Epoch 34/100\n",
      "257/257 [==============================] - 9s 36ms/step - loss: 0.5744 - acc: 0.9365 - val_loss: 0.5908 - val_acc: 0.9349\n",
      "Epoch 35/100\n",
      "257/257 [==============================] - 9s 36ms/step - loss: 0.5547 - acc: 0.9375 - val_loss: 0.5473 - val_acc: 0.9364\n",
      "Epoch 36/100\n",
      "257/257 [==============================] - 9s 37ms/step - loss: 0.5711 - acc: 0.9357 - val_loss: 0.5702 - val_acc: 0.9368\n"
     ]
    }
   ],
   "source": [
    "history = model.fit(X_train, y_train, \n",
    "                    # steps_per_epoch=num_steps,\n",
    "                    initial_epoch=0,\n",
    "                    epochs=num_epochs, \n",
    "                    validation_data=(X_val, y_val), \n",
    "                    shuffle=True,\n",
    "                    callbacks=[callback])"
   ]
  },
  {
   "cell_type": "markdown",
   "metadata": {},
   "source": [
    "Save/load the model"
   ]
  },
  {
   "cell_type": "code",
   "execution_count": 32,
   "metadata": {},
   "outputs": [],
   "source": [
    "model.save(\"cnn_philharmonia.h5\")\n",
    "#model = keras.models.load_model(\"cnn_philharmonia.h5\")"
   ]
  },
  {
   "cell_type": "markdown",
   "metadata": {},
   "source": [
    "Export model.json and *.bins with weights"
   ]
  },
  {
   "cell_type": "code",
   "execution_count": 33,
   "metadata": {},
   "outputs": [],
   "source": [
    "!tensorflowjs_converter --input_format keras \"cnn_philharmonia.h5\" ./jsmodel"
   ]
  },
  {
   "cell_type": "markdown",
   "metadata": {},
   "source": [
    "# Evaluation"
   ]
  },
  {
   "cell_type": "code",
   "execution_count": 34,
   "metadata": {},
   "outputs": [
    {
     "name": "stdout",
     "output_type": "stream",
     "text": [
      "loss 0.5710670948028564\n",
      "val_loss: 0.5702022910118103\n"
     ]
    },
    {
     "data": {
      "image/png": "[encoded data removed]",
      "text/plain": [
       "<Figure size 576x576 with 1 Axes>"
      ]
     },
     "metadata": {
      "needs_background": "light"
     },
     "output_type": "display_data"
    },
    {
     "name": "stdout",
     "output_type": "stream",
     "text": [
      "acc: 0.9356725215911865\n",
      "val_acc: 0.9367690086364746\n"
     ]
    },
    {
     "data": {
      "image/png": "[encoded data removed]",
      "text/plain": [
       "<Figure size 576x576 with 1 Axes>"
      ]
     },
     "metadata": {
      "needs_background": "light"
     },
     "output_type": "display_data"
    }
   ],
   "source": [
    "plt.figure(figsize=(8,8))\n",
    "plt.title('Loss Value')\n",
    "plt.plot(history.history['loss'])\n",
    "plt.plot(history.history['val_loss'])\n",
    "plt.legend(['loss', 'val_loss'])\n",
    "print('loss', history.history['loss'][-1])\n",
    "print('val_loss:', history.history['val_loss'][-1])\n",
    "plt.show()\n",
    "plt.figure(figsize=(8,8))\n",
    "plt.title('Accuracy')\n",
    "plt.plot(history.history['acc'])\n",
    "plt.plot(history.history['val_acc'])\n",
    "plt.legend(['acc', 'val_acc'])\n",
    "print('acc:', history.history['acc'][-1])\n",
    "print('val_acc:', history.history['val_acc'][-1])\n",
    "plt.show()"
   ]
  },
  {
   "cell_type": "code",
   "execution_count": 35,
   "metadata": {},
   "outputs": [
    {
     "name": "stdout",
     "output_type": "stream",
     "text": [
      "86/86 [==============================] - 1s 9ms/step\n"
     ]
    }
   ],
   "source": [
    "predictions = model.predict(X_test)"
   ]
  },
  {
   "cell_type": "code",
   "execution_count": 36,
   "metadata": {},
   "outputs": [],
   "source": [
    "predictions = np.argmax(predictions, axis=1)\n",
    "y_test = one_hot_encoder.inverse_transform(y_test)"
   ]
  },
  {
   "cell_type": "code",
   "execution_count": 37,
   "metadata": {},
   "outputs": [
    {
     "data": {
      "image/png": "[encoded data removed]",
      "text/plain": [
       "<Figure size 576x576 with 1 Axes>"
      ]
     },
     "metadata": {
      "needs_background": "light"
     },
     "output_type": "display_data"
    }
   ],
   "source": [
    "cm = confusion_matrix(y_test, predictions)\n",
    "plt.figure(figsize=(8,8))\n",
    "sns.heatmap(cm, annot=True, xticklabels=label_encoder.classes_, yticklabels=label_encoder.classes_, fmt='d', cmap=plt.cm.Blues, cbar=False)\n",
    "plt.xlabel('Predicted Label')\n",
    "plt.ylabel('True Label')\n",
    "plt.show()"
   ]
  },
  {
   "cell_type": "code",
   "execution_count": 38,
   "metadata": {},
   "outputs": [
    {
     "name": "stdout",
     "output_type": "stream",
     "text": [
      "\n",
      "Classification report:\n",
      "                precision    recall  f1-score   support\n",
      "\n",
      "        banjo       0.79      1.00      0.88        15\n",
      "      bassoon       0.97      0.94      0.96       189\n",
      "bass_clarinet       0.92      0.95      0.94       144\n",
      "        cello       0.94      0.92      0.93       178\n",
      "     clarinet       0.95      0.92      0.94       169\n",
      "contrabassoon       0.93      0.99      0.96       142\n",
      "  cor_anglais       0.97      0.88      0.92       138\n",
      "  double_bass       0.97      0.96      0.96       170\n",
      "        flute       0.96      0.99      0.97       176\n",
      "  french_horn       0.96      0.97      0.97       130\n",
      "       guitar       0.78      1.00      0.88        21\n",
      "     mandolin       1.00      0.50      0.67        16\n",
      "         oboe       0.97      0.87      0.92       119\n",
      "   percussion       1.00      0.53      0.70        30\n",
      "    saxophone       0.87      0.97      0.92       146\n",
      "     trombone       0.98      0.97      0.98       166\n",
      "      trumpet       0.96      0.90      0.93        97\n",
      "         tuba       0.95      1.00      0.97       195\n",
      "        viola       0.81      0.92      0.86       195\n",
      "       violin       0.97      0.93      0.95       301\n",
      "\n",
      "     accuracy                           0.94      2737\n",
      "    macro avg       0.93      0.91      0.91      2737\n",
      " weighted avg       0.94      0.94      0.94      2737\n",
      "\n"
     ]
    }
   ],
   "source": [
    "# Classification report\n",
    "print(\"\\nClassification report:\\n\", classification_report(y_test, predictions, target_names=folders))"
   ]
  }
 ],
 "metadata": {
  "kernelspec": {
   "display_name": "Python 3 (ipykernel)",
   "language": "python",
   "name": "python3"
  },
  "language_info": {
   "codemirror_mode": {
    "name": "ipython",
    "version": 3
   },
   "file_extension": ".py",
   "mimetype": "text/x-python",
   "name": "python",
   "nbconvert_exporter": "python",
   "pygments_lexer": "ipython3",
   "version": "3.9.12"
  },
  "vscode": {
   "interpreter": {
    "hash": "ba8f507fe1729c8af702a6bb6fdd2c717c7cbcb22ce2643bb02b0a4e2b11c10e"
   }
  }
 },
 "nbformat": 4,
 "nbformat_minor": 2
}
